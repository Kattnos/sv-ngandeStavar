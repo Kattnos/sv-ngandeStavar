{
 "metadata": {
  "kernelspec": {
   "name": "python3",
   "display_name": "Python 3 (ipykernel)",
   "language": "python"
  },
  "language_info": {
   "codemirror_mode": {
    "name": "python",
    "version": 3
   },
   "file_extension": ".py",
   "mimetype": "text/x-python",
   "name": "python",
   "nbconvert_exporter": "python",
   "pygments_lexer": "ipython3",
   "version": "3.8"
  },
  "colab": {
   "provenance": [
    {
     "file_id": "120prl9Drql516WFRWShKsfZIDQYARMU0",
     "timestamp": 1726747271531
    }
   ]
  }
 },
 "nbformat_minor": 4,
 "nbformat": 4,
 "cells": [
  {
   "metadata": {},
   "cell_type": "markdown",
   "source": [
    "## Svängande Stavar\n",
    "Namn: Simon Hagelin och Andreas Kav\\\n",
    "Datum: 19/9\\\n",
    "Supervisor: Simon\n",
    "\n",
    "### Variabler och produktansats\n",
    "Möjliga variabler ansågs från början vara stavens längd, bredd, tjocklek, densitet, elasticitetsmodulen, och gravitationen. \n",
    "\n",
    "\n",
    "Längd: Längden av den delen av staven som svänger, en längre stav bör leda till att svängningsdistansen ökar vilket ger en högre tidsperiod.\\\n",
    "Bredd: Metallatomerna ändrar inte position jämfört med atomerna vid dess sida, och bredden bör därför inte ha någon effekt på tidsperioden.\\\n",
    "Tjocklek: Högre tjocklek ökar kraften som krävs för att staven ska svänga.\\\n",
    "Densitet: En högre densitet innebär att fler metallatomer måste ändra position för staven ska svänga, vilket ändrar tidsperioden. \\\n",
    "Elasticitetsmodul: Ändrad elasticitetsmodul leder till ändrad tidsperiod, då staven har lättare eller svårare att svänga.\\\n",
    "Gravitation: \n",
    "\n",
    "$$\n",
    "T = k \\times L^a \\times t^b \\times \\rho^c \\times E^d\n",
    "$$\n",
    "### Dimensionsanalys\n",
    "$$\n",
    "s = m^a \\times m^b \\times kg^c \\times m^{-3c} \\times kg^d \\times m^{-1d} \\times s^{-2d}\n",
    "$$\n",
    "$$\n",
    "0=a+b-3c-d\n",
    "$$\n",
    "$$\n",
    "0=c+d\n",
    "$$\n",
    "$$\n",
    "1=-2d\n",
    "$$\n",
    "Ger att $d=-\\frac{1}{2}$ och $c=-d,\\ c=\\frac{1}{2}$. Relationen mellan $a$ och $b$ är då lika med $0=a+b-\\frac{3}{2}+\\frac{1}{2},\\ 1=a+b$. \n",
    "### Experiment\n",
    "\n",
    "#### Uträkning av exponenten för längd (a)\n",
    " \n",
    "$L^a$ kan brytas ut från ekvationen $log(T) = log(k \\times L^a \\times t^b \\times \\rho^c \\times E^d)$ vilket ger $log(T) = a \\times log(L) + log(k \\times t^b \\times \\rho^c \\times E^d)$. Genom att beskriva detta som en lineär ekvation, $y=mx+c$, där $x=log(L)$ är $m=a$ och därav ekvationens lutning. Då $c$ är en konstant, var de andra variablerna tvungen att vara konstanta.\n"
   ]
  },
  {
   "cell_type": "code",
   "source": [
    "import numpy as np\n",
    "import matplotlib.pyplot as plt\n",
    "\n",
    "L = [\n",
    "0.5,\n",
    "0.55,\n",
    "0.6,\n",
    "0.65,\n",
    "0.7,\n",
    "0.75,\n",
    "0.8,\n",
    "0.85,\n",
    "0.9,\n",
    "]\n",
    "\n",
    "T = [\n",
    "576,\n",
    "691,\n",
    "809,\n",
    "916,\n",
    "1066,\n",
    "1223,\n",
    "1376,\n",
    "1541,\n",
    "1739\n",
    "]\n",
    "\n",
    "logT = np.log10(T)\n",
    "logL = np.log10(L)\n",
    "\n",
    "slope, intercept = np.polyfit(logL, logT, 1)\n",
    "print(f'Lutningen på grafen är {slope}')\n",
    "\n",
    "plt.plot(logL, logT, '+')  \n",
    "plt.grid(True)  # Rutnät\n",
    "plt.show()  # Visa plotten med alla dessa textfält"
   ],
   "metadata": {
    "id": "iwsLtj345-FX",
    "trusted": true,
    "ExecuteTime": {
     "end_time": "2024-09-20T12:51:05.519193Z",
     "start_time": "2024-09-20T12:51:05.454452Z"
    }
   },
   "outputs": [
    {
     "name": "stdout",
     "output_type": "stream",
     "text": [
      "Lutningen på grafen är 1.8660770910699949\n"
     ]
    },
    {
     "data": {
      "text/plain": [
       "<Figure size 640x480 with 1 Axes>"
      ],
      "image/png": "[encoded data removed]"
     },
     "metadata": {},
     "output_type": "display_data"
    }
   ],
   "execution_count": 11
  },
  {
   "metadata": {},
   "cell_type": "markdown",
   "source": "Lutningen på grafen ger att exponenten för längden är $a\\approx 2$."
  },
  {
   "cell_type": "markdown",
   "source": [
    "### Uträkning av konstanten\n",
    "Fler värden, med stänger av varierande tjocklekar, användes till denna uträkning. Då de ursprungliga ekvationerna gav att:\n",
    "$$\n",
    "1=a+b\n",
    "$$\n",
    "$$\n",
    "d=-\\frac{1}{2}\n",
    "$$\n",
    "$$\n",
    "c=\\frac{1}{2}\n",
    "$$\n",
    "och $a=2 \\leftrightarrow b=1-2 \\leftrightarrow b=-1$ är den slutgiltiga ekvationen alltså: \n",
    "$$\n",
    "T = k \\times L^2 \\times t^{-1} \\times \\rho^{\\frac{1}{2}} \\times E^{-\\frac{1}{2}}\n",
    "$$\n",
    "$$\n",
    "\\leftrightarrow T = k \\times \\frac{L^2}{t} \\times \\sqrt{\\frac{\\rho}{E}}\n",
    "$$\n",
    "Genom att sätta upp detta som en lineär ekvation, där $y=T$ och $x=\\frac{L^2}{t} \\times \\sqrt{\\frac{\\rho}{E}}$ blir konstanten lika med grafens lutning, $k=m$."
   ],
   "metadata": {
    "id": "uhti7xrRupra"
   }
  },
  {
   "cell_type": "code",
   "source": [
    "import numpy as np\n",
    "import matplotlib.pyplot as plt\n",
    "\n",
    "T = [ #Tidsperiod\n",
    "0.0576,\n",
    "0.0611,\n",
    "0.0691,\n",
    "0.0809,\n",
    "0.0861,\n",
    "0.0916,\n",
    "0.1066,\n",
    "0.1223,\n",
    "0.1376,\n",
    "0.1451,\n",
    "0.1541,\n",
    "0.1739\n",
    "]\n",
    "L = [ #Längd på svängande delen av staven\n",
    "0.5,\n",
    "0.6,\n",
    "0.55,\n",
    "0.6,\n",
    "0.6,\n",
    "0.65,\n",
    "0.7,\n",
    "0.75,\n",
    "0.8,\n",
    "0.6,\n",
    "0.85,\n",
    "0.9\n",
    "]\n",
    "\n",
    "P = 7800 #Densitet\n",
    "\n",
    "t = [ #Tjocklek på staven\n",
    "0.0063,\n",
    "0.008,\n",
    "0.0063,\n",
    "0.0063,\n",
    "0.00545,\n",
    "0.0063,\n",
    "0.0063,\n",
    "0.0063,\n",
    "0.0063,\n",
    "0.00315,\n",
    "0.0063,\n",
    "0.0063\n",
    "]\n",
    "\n",
    "var = np.sqrt(np.divide(7800,(20*(10**10)))) #Roten av densitet dividerat med elasticitetsmodulen\n",
    "\n",
    "x = np.multiply(var, np.divide(np.power(L,2),t))\n",
    "\n",
    "slope, intercept = np.polyfit(x, T, 1)\n",
    "print(f'Lutningen på grafen är {slope}')\n",
    "\n",
    "plt.plot(x, y, '+')  # Här plottar man datan, vi väljer + som markör\n",
    "plt.grid(True)  # Rutnät\n",
    "plt.show()  # Visa plotten med alla dessa textfält\n"
   ],
   "metadata": {
    "id": "yvcXsx-jL8bC",
    "trusted": true,
    "ExecuteTime": {
     "end_time": "2024-09-20T12:43:26.315412Z",
     "start_time": "2024-09-20T12:43:26.261570Z"
    }
   },
   "outputs": [
    {
     "name": "stdout",
     "output_type": "stream",
     "text": [
      "Lutningen på grafen är 6.50048638822356\n"
     ]
    },
    {
     "data": {
      "text/plain": [
       "<Figure size 640x480 with 1 Axes>"
      ],
      "image/png": "[encoded data removed]"
     },
     "metadata": {},
     "output_type": "display_data"
    }
   ],
   "execution_count": 9
  },
  {
   "metadata": {},
   "cell_type": "markdown",
   "source": [
    "Lutningen på grafen ger att konstanten $k=6.5$.\n",
    "\n",
    "## Slutsats\n",
    "Uträkningarna har gett att:\n",
    "$$\n",
    "T = 6.5 \\times \\frac{L^2}{t} \\times \\sqrt{\\frac{\\rho}{E}}\n",
    "$$\n",
    "\n"
   ]
  }
 ]
}
