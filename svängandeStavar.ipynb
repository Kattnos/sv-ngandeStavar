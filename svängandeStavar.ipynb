{
 "metadata": {
  "kernelspec": {
   "name": "python3",
   "display_name": "Python 3 (ipykernel)",
   "language": "python"
  },
  "language_info": {
   "codemirror_mode": {
    "name": "python",
    "version": 3
   },
   "file_extension": ".py",
   "mimetype": "text/x-python",
   "name": "python",
   "nbconvert_exporter": "python",
   "pygments_lexer": "ipython3",
   "version": "3.8"
  },
  "colab": {
   "provenance": [
    {
     "file_id": "120prl9Drql516WFRWShKsfZIDQYARMU0",
     "timestamp": 1726747271531
    }
   ]
  }
 },
 "nbformat_minor": 4,
 "nbformat": 4,
 "cells": [
  {
   "metadata": {},
   "cell_type": "markdown",
   "source": [
    "### Svängande Stavar\n",
    "Namn: \n",
    "Datum:\n",
    "Supervisor:\n"
   ]
  },
  {
   "cell_type": "code",
   "source": [
    "import numpy as np\n",
    "import matplotlib.pyplot as plt\n",
    "\n",
    "L = [\n",
    "0.5,\n",
    "0.55,\n",
    "0.6,\n",
    "0.65,\n",
    "0.7,\n",
    "0.75,\n",
    "0.8,\n",
    "0.85,\n",
    "0.9,\n",
    "]\n",
    "\n",
    "T = [\n",
    "576,\n",
    "691,\n",
    "809,\n",
    "916,\n",
    "1066,\n",
    "1223,\n",
    "1376,\n",
    "1541,\n",
    "1739\n",
    "]\n",
    "\n",
    "logT = np.log10(T)\n",
    "logL = np.log10(L)\n",
    "\n",
    "slope, intercept = np.polyfit(logL, logT, 1)\n",
    "print(f'Lutningen på grafen är {slope}')\n",
    "\n",
    "plt.plot(logL, logT, '+')  \n",
    "plt.grid(True)  # Rutnät\n",
    "plt.show()  # Visa plotten med alla dessa textfält"
   ],
   "metadata": {
    "id": "iwsLtj345-FX",
    "trusted": true,
    "ExecuteTime": {
     "end_time": "2024-09-20T12:51:05.519193Z",
     "start_time": "2024-09-20T12:51:05.454452Z"
    }
   },
   "outputs": [
    {
     "name": "stdout",
     "output_type": "stream",
     "text": [
      "Lutningen på grafen är 1.8660770910699949\n"
     ]
    },
    {
     "data": {
      "text/plain": [
       "<Figure size 640x480 with 1 Axes>"
      ],
      "image/png": "[encoded data removed]"
     },
     "metadata": {},
     "output_type": "display_data"
    }
   ],
   "execution_count": 11
  },
  {
   "cell_type": "markdown",
   "source": "### 2.3 Moduler i Python: matematik\n\nPython har i grunden mycket lite inbyggd matematik, exempelvis finns nästan inga funktioner. Matematik finns dock i modulen NumPy. När man importerar denna modul är det vanliga att man kallar den för `np`. Det enda du sedan behöver komma ihåg är att anropa matematiska funktioner som exempelvis `np.sin(2), np.exp(2.7)`.",
   "metadata": {
    "id": "uhti7xrRupra"
   }
  },
  {
   "cell_type": "code",
   "source": [
    "import numpy as np\n",
    "import matplotlib.pyplot as plt\n",
    "\n",
    "T = [ #Tidsperiod\n",
    "0.0576,\n",
    "0.0611,\n",
    "0.0691,\n",
    "0.0809,\n",
    "0.0861,\n",
    "0.0916,\n",
    "0.1066,\n",
    "0.1223,\n",
    "0.1376,\n",
    "0.1451,\n",
    "0.1541,\n",
    "0.1739\n",
    "]\n",
    "L = [ #Längd på svängande delen av staven\n",
    "0.5,\n",
    "0.6,\n",
    "0.55,\n",
    "0.6,\n",
    "0.6,\n",
    "0.65,\n",
    "0.7,\n",
    "0.75,\n",
    "0.8,\n",
    "0.6,\n",
    "0.85,\n",
    "0.9\n",
    "]\n",
    "\n",
    "P = 7800 #Densitet\n",
    "\n",
    "t = [ #Tjocklek på staven\n",
    "0.0063,\n",
    "0.008,\n",
    "0.0063,\n",
    "0.0063,\n",
    "0.00545,\n",
    "0.0063,\n",
    "0.0063,\n",
    "0.0063,\n",
    "0.0063,\n",
    "0.00315,\n",
    "0.0063,\n",
    "0.0063\n",
    "]\n",
    "\n",
    "var = np.sqrt(np.divide(7800,(20*(10**10)))) #Roten av densitet dividerat med elasticitetsmodulen\n",
    "\n",
    "x = np.multiply(var, np.divide(np.power(L,2),t))\n",
    "\n",
    "slope, intercept = np.polyfit(x, T, 1)\n",
    "print(f'Lutningen på grafen är {slope}')\n",
    "\n",
    "plt.plot(x, y, '+')  # Här plottar man datan, vi väljer + som markör\n",
    "plt.grid(True)  # Rutnät\n",
    "plt.show()  # Visa plotten med alla dessa textfält\n"
   ],
   "metadata": {
    "id": "yvcXsx-jL8bC",
    "trusted": true,
    "ExecuteTime": {
     "end_time": "2024-09-20T12:43:26.315412Z",
     "start_time": "2024-09-20T12:43:26.261570Z"
    }
   },
   "outputs": [
    {
     "name": "stdout",
     "output_type": "stream",
     "text": [
      "Lutningen på grafen är 6.50048638822356\n"
     ]
    },
    {
     "data": {
      "text/plain": [
       "<Figure size 640x480 with 1 Axes>"
      ],
      "image/png": "[encoded data removed]"
     },
     "metadata": {},
     "output_type": "display_data"
    }
   ],
   "execution_count": 9
  },
  {
   "cell_type": "markdown",
   "source": "### 3.2 Att skriva  rapporten\n\nNi kan dela dokumentet mellan er för att skriva färdigt rapporten tillsammans, genom att klicka på Share uppe till höger. Där kan man dela dokumentet så att alla i gruppen har läs- och skrivrättigheter, eller bara dela en länk som tillåter att kopiera dokumentet (så som du fick detta dokument). När rapporten är klar, spara den som en pdf-fil och ladda upp den i Canvas. Hur man gör för att spara som pdf ut beror på dator och browser.",
   "metadata": {
    "id": "rRZMlFJzwiH_"
   }
  },
  {
   "cell_type": "markdown",
   "source": "### 3.3 Ekvationer\n\nAtt skriva ekvationer är lite knepigt men blir väldigt snyggt när man kan det. Dubbelklicka på den här texten för att se hur man skriver. Enkla ekvationer eller storheter inne i texten skriver du med \\$-tecken omkring, till exempel $L$, $F=m \\cdot a$ och $s= \\frac{a t^2}{2}$. Index och exponenter skrivs t.ex. $a_0=b^3 < c_{light}^2$. Ekvationer kan även ligga på egen rad och omges då av dubbla \\$\\$-tecken, och man kan numrera dem:\n\n$$ T = \\sqrt{ \\frac{A}{B} } = \\left( \\frac{c+d}{f(x)} \\right)^n  \\tag{1}$$\n\nObservera att ekvation (1) är helt påhittad bara för att visa hur man skriver olika saker.\n\nDe enklaste funktionerna du kan behöva i rapporten är:\n\n```\n   Bråk:           \\frac{täljare}{nämnare}\n   Roten ur:       \\sqrt{argument}\n   Stor parentes:  \\left( innehåll \\right)\n```\n\nFunktioner som till exempel $\\sin x, \\ln(y), \\cos^2 \\phi, \\log_{10}(z)$ ska som du vet aldrig vara kursiva. Funktioner skriver man därför med \\ före, så här:\n\n```\n   \\sin x   \\ln(y)   \\cos^2 \\phi   \\log_{10}(z)\n```\n\nGrekiska bokstäver skrivs som `\\bokstaven`: $ \\alpha, \\gamma, \\lambda, \\theta, \\rho, \\phi, \\varphi... $\n\n\n```\n   \\alpha   \\gamma   \\lambda   \\theta   \\rho   \\phi   \\varphi     och så vidare\n```\n\nNedan ser du ännu ett exempel på en lite mer komplicerad ekvation, denna gång från riktig fysik. Här ser du även att radbrytning och flera mellanslag i koden inte syns i den färdiga ekvationen, vilket kan vara praktiskt när man skriver komplicerade uttryck.\n\n$$\nW_{\\mathrm{pot}}\n= - \\int_A^B \\bar{F}     \\cdot   d   \\bar{s}\n= W_{\\mathrm{pot}} (B) - W_{\\mathrm{pot}} (A)\n\\tag{2}\n$$",
   "metadata": {
    "id": "nPSaqZpR63tV"
   }
  },
  {
   "cell_type": "markdown",
   "source": "### 3.4 Bilder\n\nDet går att lägga in bilder också. Det enklaste sättet är att länka till en bild från en webbsida. Leta fram bilden, högerklicka på den för att kopiera länken, och lägg in denna istället för den påhittade länken i exemplet nedan:\n\n```\n![valfri_text](https://bilder.com/exempel.jpg)\n```\n\nHär är ett exempel på en bild, dubbelklicka för att se hur den är inlagd.\n\n# ![solarsystem](https://upload.wikimedia.org/wikipedia/commons/1/19/Solar_System_true_color.jpg)\n\n*Figur 1: Solsystemet*",
   "metadata": {
    "id": "HnqmANfy9_PM"
   }
  },
  {
   "cell_type": "markdown",
   "source": "## 4. Att gå vidare\n\n### 4.1 Hur du lär dig mer\n\nDu kommer att lära dig mer programmering i andra kurser. Vill du fortsätta lära dig programmera på egen hand finns massor av hjälpmedel på nätet. Det kanske mest kraftfulla verktyget är ChatGPT som är mycket bra på olika programmeringsspråk. Du kan även ställa dina frågor på svenska.\n\nFör mer detaljer och tips om hur man skriver ekvationer i Jupyter notebooks finns en länk här:\nhttps://colab.research.google.com/github/bebi103a/bebi103a.github.io/blob/master/lessons/00/intro_to_latex.ipynb\n\nOm du vill kan du installera Jupyter notbooks på din egen dator, så att du inte behöver vara uppkopplad hela tiden. Här hittar du information om hur man gör, men observera att detta kräver en del datorvana: https://jupyter.org.",
   "metadata": {
    "id": "U5HOUVqtCymT"
   }
  },
  {
   "cell_type": "markdown",
   "source": "### 4.2 Att arbeta med vektorer mer effektivt\n\nI avsnitt 2.5 använde vi en lite krånglig metod för att skapa en vektor från en lista. Om du använder NumPy ordentligt (vilket du lär dig i andra kurser) blir det mycket enklare och mer intuitivt. Nyckeln här är att man måste skapa en vektor som ett *objekt*, och inte bara en lista av tal. När det väl är gjort blir det enklare.",
   "metadata": {
    "id": "ZCvAvKEYXKzL"
   }
  },
  {
   "cell_type": "code",
   "source": "# Importera de moduler som behövs\n\nimport numpy as np\nimport matplotlib.pyplot as plt\n\n# Skapa en vektor explicit:\ndata = np.array([0, 1, 2, 3, 4])\nprint(f'Vektorn data ser ut så här: {data} \\n')  # Här lägger vi till en tom rad med \\n\n\n# En vektor med många värden, i detta fall 1000 värden mellan 0 och 5 skapas så här:\nx = np.linspace(0, 5, 1000)\n\n# nu fungerar det som inte gick i exemplet i avsnitt 2.5:\ny = np.sin(3* np.pi * x) * np.exp(-x)\n\nplt.plot(x,y)\nplt.show()",
   "metadata": {
    "id": "7H0__UFYXvtP"
   },
   "outputs": [],
   "execution_count": null
  },
  {
   "cell_type": "markdown",
   "source": "> OBS! Vektorn `x` skiljer sig en aning från vektorn `x` vi skapade i avsnitt 2.5. Båda har 1000 element, men nu är sista elementet exakt 5 och inte 4.995 som innan. Kolla  vad elementet `x[1]` har för värde nu:",
   "metadata": {
    "id": "iBETAc0t3Gxf"
   }
  },
  {
   "cell_type": "code",
   "source": "x[1]",
   "metadata": {
    "id": "Jq9vo0pS3iDv"
   },
   "outputs": [],
   "execution_count": null
  },
  {
   "cell_type": "markdown",
   "source": "### 4.3 Att ladda in mätdata från en textfil (*överkurs*)\n\nOm du har mycket mätdata är det inte praktiskt att skriva in den för hand. Du kan då ladda in data från en `.txt`-fil. Textfilen måste ligga i din Google Drive. När du laddat upp den där kan du göra enligt nedan för att ladda in den i din Notebook. Se nedan för exempel på hur en sådan textfil ser ut.\n\nFörsta kodfältet behöver bara köras en gång. Kör du den igen kommer det ett felmeddelande men det spelar ingen roll. Du kommer även att behöva godkänna att Colab får tillgång till din Google drive.",
   "metadata": {
    "id": "kjJKShsiHrpm"
   }
  },
  {
   "cell_type": "code",
   "source": "# Först monteras Google Drive som en hårddisk\n\nfrom google.colab import drive\ndrive.mount('/content/drive')",
   "metadata": {
    "id": "FsvNV_cTLb3i"
   },
   "outputs": [],
   "execution_count": null
  },
  {
   "cell_type": "markdown",
   "source": "När detta är gjort kan du klicka på den lilla mappen/foldern till vänster för att se alla dina filer. Du kan högerklicka på en fil för att kopiera sökvägen (\"`file_path`\") till den.",
   "metadata": {
    "id": "3sLVdbhqTWTk"
   }
  },
  {
   "cell_type": "code",
   "source": "import csv  # Ladda in en modul som kan läsa textfiler\nimport numpy as np\nimport matplotlib.pyplot as plt\n\n# Byt ut filnamnet till det du valde när du sparade\nfile_path = '/content/drive/MyDrive/Colab Notebooks/testdata.txt'\n\n# Öppna filen och läs in datan\nwith open(file_path, 'r') as file:\n    reader = csv.reader(file, delimiter='\\t')\n    rawdata = list(reader)\n\n# Konvertera \"rawdata\" till vektorer\ndata = np.zeros([0,2])  # Skapa en tom matris att lägga datan i\n[xname, yname] = rawdata[0]  # Plocka ut rubrikerna från första raden i textfilen\nrawdata = np.delete(rawdata, 0, axis=0)  # Radera första raden eftersom den inte har numerisk data\n\nfor row in rawdata:\n    rad = [float(value) for value in row]  # Konvertera varje rad till tal\n    data = np.append(data, [rad], axis = 0)  # lägg dataparet till listan/matrisen data\nx = data[:, 0]  # x = första kolumnen\ny = data[:, 1]  # y = andra kolumnen\n\nplt.plot(x,y, '.-')  # Här är markörerna . och vi drar linjer mellan punkterna\nplt.xlabel(xname)\nplt.ylabel(yname)\nplt.show()",
   "metadata": {
    "id": "FjKWT49TP62b"
   },
   "outputs": [],
   "execution_count": null
  },
  {
   "cell_type": "markdown",
   "source": "\nFilen testdata.txt ser ut så här:\n```\ntime (s)\tdistance (m)\n0\t0\n0.1\t0.0491\n0.2\t0.1964\n0.3\t0.4419\n0.4\t0.7856\n0.5\t1.2275\n0.6\t1.7676\n0.7\t2.4059\n0.8\t3.1424\n0.9\t3.9771\n1\t4.91\n1.1\t5.9411\n1.2\t7.0704\n1.3\t8.2979\n1.4\t9.6236\n1.5\t11.0475\n1.6\t12.5696\n1.7\t14.1899\n1.8\t15.9084\n1.9\t17.7251\n2\t19.64\n2.1\t21.6531\n2.2\t23.7644\n2.3\t25.9739\n2.4\t28.2816\n2.5\t30.6875\n```\n\n",
   "metadata": {
    "id": "UUnMveh5gB43"
   }
  },
  {
   "cell_type": "markdown",
   "source": "### 4.4 Att ladda in data från en Google spreadsheet (*överkurs*)\n\nPå många vis enklare än att läsa från en textfil men det kräver lite pyssel:\n\n1. Skapa ett Google sheet och skriv in din data som två kolumner med rubrik på första raden\n2. I ditt Google Sheet, klicka på Sharing, välj \"Anyone with the link can edit\" och kopiera länken\n3. Klistra in länken i ett Code-fält i din notebook\n4. Ersätt ut sista delen av länken `.../edit?usp=sharing` med `.../export?format=csv`\n5. Klipp ut och klistra in denna länk i femte raden nedan\n6. Kör koden\n\nOm du föredrar detta sätt kan du läsa eller kopiera in data från en textfil till ett spreadsheet.",
   "metadata": {
    "id": "303l2ankTDw7"
   }
  },
  {
   "cell_type": "code",
   "source": "import pandas as pd  # En kraftfull modul för databehandling\nimport numpy as np\nimport matplotlib.pyplot as plt\n\n# Ersätt länken nedan med den du byggde ihop i punkt 2-4 ovan\ndata = pd.read_csv('https://docs.google.com/spreadsheets/d/1-F93td_fKthwRZVJLDBTGrw_UxY_VQ9QX9bFGW2c4ns/export?format=csv')\n\n# Plocka ut rubrikerna\n[xname, yname] = data.columns.tolist()\n\n# Plocka ut datan som listor/vektorer\nx = data[xname].tolist()\ny = data[yname].tolist()\n\n# Plotta datan\nplt.plot(x,y, 'r.')  # Här är markörerna röda punkter\nplt.xlabel(xname)\nplt.ylabel(yname)\nplt.show()",
   "metadata": {
    "id": "6pHwqX7AX5dE"
   },
   "outputs": [],
   "execution_count": null
  }
 ]
}
